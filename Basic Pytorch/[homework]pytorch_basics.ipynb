{
 "cells": [
  {
   "cell_type": "markdown",
   "metadata": {
    "colab_type": "text",
    "id": "wscvRoo_Y2bp"
   },
   "source": [
    "<p style=\"align: center;\"><img align=center src=\"https://s8.hostingkartinok.com/uploads/images/2018/08/308b49fcfbc619d629fe4604bceb67ac.jpg\"  width=400></p>\n",
    "\n",
    "<h3 style=\"text-align: center;\"><b>Физтех-Школа Прикладной математики и информатики (ФПМИ) МФТИ</b></h3>"
   ]
  },
  {
   "cell_type": "code",
   "execution_count": 60,
   "metadata": {
    "colab": {},
    "colab_type": "code",
    "id": "Lg09ve27Y2br"
   },
   "outputs": [],
   "source": [
    "from matplotlib import pyplot as plt\n",
    "import numpy as np\n",
    "from sklearn import datasets\n",
    "from sklearn.model_selection import train_test_split\n",
    "import torch"
   ]
  },
  {
   "cell_type": "markdown",
   "metadata": {
    "colab_type": "text",
    "id": "Gbpu-GrgY2bv"
   },
   "source": [
    "### 1. Нахождение сложной производной"
   ]
  },
  {
   "cell_type": "markdown",
   "metadata": {
    "colab_type": "text",
    "id": "GZKVcvtTY2bw"
   },
   "source": [
    "Найдите производную по x от функции \n",
    "$$\\sin\\left(\\tan(x)\\frac{x^2}{y} + \\ln(e^{-x^2 + 3}+x^3y)\\right)\\tan(x^2e^{x^9})$$\n",
    "\n",
    "При этом надо пользоваться встроенным в PyTorch autograd. Численное вычисление производной может не дать нужный результат."
   ]
  },
  {
   "cell_type": "code",
   "execution_count": 14,
   "metadata": {
    "colab": {},
    "colab_type": "code",
    "id": "ihvUiIDQY2bx"
   },
   "outputs": [
    {
     "name": "stdout",
     "output_type": "stream",
     "text": [
      "tensor([21.])\n"
     ]
    },
    {
     "data": {
      "text/plain": [
       "tensor([-9.0207])"
      ]
     },
     "execution_count": 14,
     "metadata": {},
     "output_type": "execute_result"
    }
   ],
   "source": [
    "def find_x_derivative(x, y):\n",
    "    x = Variable(torch.FloatTensor([x]), requires_grad=True)\n",
    "    y = Variable(torch.FloatTensor([y]))\n",
    "    out = torch.sin(torch.tan(x)*x.pow(2)/y+torch.log(torch.exp(-x.pow(2)+3)+x.pow(3)*y))*torch.tan(x.pow(2)*torch.exp(x.pow(9)))\n",
    "    print(y)\n",
    "    out.backward()\n",
    "    return x.grad\n",
    "\n",
    "find_x_derivative(x=1, y=21)"
   ]
  },
  {
   "cell_type": "markdown",
   "metadata": {
    "colab_type": "text",
    "collapsed": true,
    "id": "mNbn5UzGY2b0"
   },
   "source": [
    "# 2. Нахождение косинусной близости\n",
    "\n",
    "Вам даны две матрицы A и B. Необходимо посчитать косинусную близость между строчками матрицы A и столбцами матрицы B. Ответ - матрица чисел, где номер строки - номер строки из матрицы А, а номер столбца - номер столбца из В, от которых бралась косинусная близость.\n",
    "\n",
    "Напомним, что косинусная близость двух векторов - косинус угла между ними. В n-мерном пространстве косинус угла между веткорами удобнее всего через скалярное произведение:\n",
    "$$\\cos(angle(x, y)) = \\frac{x \\cdot y}{\\left\\|x\\right\\| \\left\\|y\\right\\|}$$\n",
    "\n",
    "(Наша операция очень похожа на умножение матриц)"
   ]
  },
  {
   "cell_type": "code",
   "execution_count": 55,
   "metadata": {
    "colab": {},
    "colab_type": "code",
    "id": "9r2uiysQY2b1"
   },
   "outputs": [],
   "source": [
    "def get_cos_vec(x,y):\n",
    "    xy1 = x.dot(y)\n",
    "    x1 = x.norm()\n",
    "    y1 = y.norm()\n",
    "    return xy1.div(x1.mul(y1))\n",
    "\n",
    "def get_cos_sim(A, B):\n",
    "    \"\"\"\n",
    "        A, B - torch float tensors\n",
    "    \"\"\"\n",
    "#     result = np.zeros((4,5))\n",
    "#     for i in range(A.shape[0]):\n",
    "#         for j in range(B.shape[1]):\n",
    "#             print(i,j)\n",
    "#             result[i,j] = get_cos_vec(A[i,:],B[:,j])\n",
    "    result = [[get_cos_vec(A[i,:],B[:,j]) for i in range(A.shape[0])] for j in range(B.shape[1])]\n",
    "    \n",
    "    return result"
   ]
  },
  {
   "cell_type": "code",
   "execution_count": 57,
   "metadata": {},
   "outputs": [
    {
     "name": "stdout",
     "output_type": "stream",
     "text": [
      "tensor([-50.,  21.,  20.,  11.])\n",
      "4\n"
     ]
    }
   ],
   "source": [
    "A1 = torch.FloatTensor([[1, -47, 25, -3], \n",
    "                        [10, 17, -15, 22], \n",
    "                        [-3, -7, 26, 36],\n",
    "                        [12, -27, -42, 0]])\n",
    "B1 = torch.FloatTensor([[-50, -13, 1, 10, 1242],\n",
    "                        [21, 48, -13, -14, -20],\n",
    "                        [20, 15, 11, 43, 11],\n",
    "                        [11, 103, 147, 27, -8]])\n",
    "print(B1[:,0])\n",
    "print(A1.shape[0])\n",
    "a = get_cos_sim(A1,B1)"
   ]
  },
  {
   "cell_type": "code",
   "execution_count": 59,
   "metadata": {},
   "outputs": [
    {
     "data": {
      "text/plain": [
       "0.14977778"
      ]
     },
     "execution_count": 59,
     "metadata": {},
     "output_type": "execute_result"
    }
   ],
   "source": [
    "np.mean(a)"
   ]
  },
  {
   "cell_type": "markdown",
   "metadata": {
    "colab_type": "text",
    "id": "BR_2JtdtY2b4"
   },
   "source": [
    "# 3. Линейная регрессия\n",
    "\n",
    "Раньше мы самостоятельно считали производные, чтобы находить веса линейной регрессии с помощью градиентного спуска. Теперь нам нужно использовать для этого PyTorch и его autograd. \n",
    "\n",
    "**Важно**: на самом деле .backward не обновляет содержимое матриц с производными (some_tensor.grad), а прибавляет к ним только что посчитаные значения проивзодных. Это значит, что вызвав .backward дважды, вы получите удвоенную производную. Так как мы обновляем веса в цикле и много раз вызываем .backward, то очень быстро мы получим мусор в some_tensor.grad, если не будем его каждый раз обнулять. Таким образом, в конц итериации после использования производных обнулите значения в матрице производных для всех нужных Вам переменных. Делается это вот так \n",
    "> some\\_tensor.grad.data.zero_()"
   ]
  },
  {
   "cell_type": "code",
   "execution_count": 73,
   "metadata": {
    "colab": {},
    "colab_type": "code",
    "id": "XbuGEdgBY2b5"
   },
   "outputs": [],
   "source": [
    "class LinearRegression:\n",
    "    def get_loss(self, preds, y):\n",
    "        \"\"\"\n",
    "            @param preds: предсказания модели\n",
    "            @param y: истиные значения\n",
    "            @return mse: значение MSE на переданных данных\n",
    "        \"\"\"\n",
    "        # возьмите средний квадрат ошибки по всем выходным переменным\n",
    "        # то есть сумму квадратов ошибки надо поделить на количество_элементов * количество_таргетов\n",
    "        return torch.mean((preds - y)**2)\n",
    "    \n",
    "    def init_weights(self, input_size, output_size):\n",
    "        \"\"\"\n",
    "            Инициализирует параметры модели\n",
    "            W - матрица размерности (input_size, output_size)\n",
    "            инициализируется рандомными числами из\n",
    "            uniform распределения (torch.rand())\n",
    "            b - вектор размерности (1, output_size)\n",
    "            инициализируется нулями\n",
    "        \"\"\"\n",
    "        torch.manual_seed(0) #необходимо для воспроизводимости результатов\n",
    "        self.W = torch.rand(input_size, output_size,  requires_grad=True)\n",
    "        self.b = torch.zeros(1, output_size, requires_grad=True)\n",
    "\n",
    "    def fit(self, X, y, num_epochs=1000, lr=0.001):\n",
    "        \"\"\"\n",
    "            Обучение модели линейной регрессии методом градиентного спуска\n",
    "            @param X: размерности (num_samples, input_shape)\n",
    "            @param y: размерности (num_samples, output_shape)\n",
    "            @param num_epochs: количество итераций градиентного спуска\n",
    "            @param lr: шаг градиентного спуска\n",
    "            @return metrics: вектор значений MSE на каждом шаге градиентного\n",
    "            спуска.\n",
    "        \"\"\"\n",
    "        self.init_weights(X.shape[1], y.shape[1])\n",
    "        metrics = []\n",
    "        for _ in range(num_epochs):\n",
    "            preds = self.predict(X)\n",
    "            # сделайте вычисления градиентов c помощью Pytorch и обновите веса\n",
    "            # осторожнее, оберните вычитание градиента в \n",
    "#                 with torch.no_grad():\n",
    "#                     #some code\n",
    "            # иначе во время прибавления градиента к переменной создастся очень много нод в дереве операций\n",
    "            # и ваши модели в будущем будут падать от нехватки памяти\n",
    "            loss = self.get_loss(preds,y)\n",
    "            loss.backward()\n",
    "            with torch.no_grad():\n",
    "                self.W.data -=  lr*self.W.grad\n",
    "                self.b.data -=  lr*self.b.grad\n",
    "                self.W.grad.zero_()\n",
    "                self.b.grad.zero_()\n",
    "            metrics.append(self.get_loss(preds, y).data)\n",
    "        return metrics\n",
    "\n",
    "    def predict(self, X):\n",
    "        \"\"\"\n",
    "            Думаю, тут все понятно. Сделайте свои предсказания :)\n",
    "        \"\"\"\n",
    "        return X@self.W + self.b "
   ]
  },
  {
   "cell_type": "markdown",
   "metadata": {
    "colab_type": "text",
    "id": "QQ8GJjFKaY6r"
   },
   "source": [
    "1. Сгенерируйте данные с помощью make_regression с параметрами n_targets=3, n_features=2, noise=10, random_state=42. \n",
    "2. Обучите модель линейной регрессии, оставив в fit параметры num_epochs и lr по умолчанию (обратите внимание, что перед обучением нужно привести данные к типу, использующимся в torch) \n",
    "2. Посчитайте среднее значение метрики MSE по всем итерациям цикла в fit (массив из значений MSE на каждой итерации возвращается из метода fit). Ответом, который необходимо сдать в систему, будет число, округленное до 3х знаков после запятой."
   ]
  },
  {
   "cell_type": "code",
   "execution_count": 80,
   "metadata": {
    "colab": {},
    "colab_type": "code",
    "id": "zOVkSg_0Y2b8"
   },
   "outputs": [],
   "source": [
    "X, Y = datasets.make_regression(n_targets=3, n_features=2, noise=10, random_state=42)\n",
    "X_train, X_test, Y_train, Y_test = train_test_split(X, Y)\n",
    "X = torch.from_numpy(X_train).float()\n",
    "Y = torch.from_numpy(Y_train).float()\n",
    "X_test = torch.from_numpy(X_test).float()\n",
    "Y_test = torch.from_numpy(Y_test).float()\n",
    "model = LinearRegression()\n",
    "mse = model.fit(X, Y)"
   ]
  },
  {
   "cell_type": "code",
   "execution_count": 81,
   "metadata": {
    "colab": {},
    "colab_type": "code",
    "id": "oMgiJA_Va6g_",
    "scrolled": true
   },
   "outputs": [
    {
     "name": "stdout",
     "output_type": "stream",
     "text": [
      "4493.675\n"
     ]
    }
   ],
   "source": [
    "print(np.mean(mse))"
   ]
  },
  {
   "cell_type": "code",
   "execution_count": 82,
   "metadata": {},
   "outputs": [],
   "source": [
    "mse1 = model.predict(X_test)"
   ]
  },
  {
   "cell_type": "code",
   "execution_count": 84,
   "metadata": {},
   "outputs": [
    {
     "data": {
      "text/plain": [
       "tensor(1420.6165, grad_fn=<MeanBackward0>)"
      ]
     },
     "execution_count": 84,
     "metadata": {},
     "output_type": "execute_result"
    }
   ],
   "source": [
    "model.get_loss(mse1,Y_test)"
   ]
  },
  {
   "cell_type": "markdown",
   "metadata": {
    "colab_type": "text",
    "id": "iJVuCWOxbACZ"
   },
   "source": [
    "Здесь предлагаем протестировать метод predict удобным вам образом."
   ]
  },
  {
   "cell_type": "code",
   "execution_count": 0,
   "metadata": {
    "colab": {},
    "colab_type": "code",
    "id": "XF5Rw27ba-mj"
   },
   "outputs": [],
   "source": [
    "#YOUR CODE"
   ]
  }
 ],
 "metadata": {
  "colab": {
   "collapsed_sections": [],
   "name": "[homework]pytorch_basics.ipynb",
   "provenance": []
  },
  "hide_input": false,
  "kernelspec": {
   "display_name": "Python 3",
   "language": "python",
   "name": "python3"
  },
  "language_info": {
   "codemirror_mode": {
    "name": "ipython",
    "version": 3
   },
   "file_extension": ".py",
   "mimetype": "text/x-python",
   "name": "python",
   "nbconvert_exporter": "python",
   "pygments_lexer": "ipython3",
   "version": "3.7.3"
  },
  "varInspector": {
   "cols": {
    "lenName": 16,
    "lenType": 16,
    "lenVar": 40
   },
   "kernels_config": {
    "python": {
     "delete_cmd_postfix": "",
     "delete_cmd_prefix": "del ",
     "library": "var_list.py",
     "varRefreshCmd": "print(var_dic_list())"
    },
    "r": {
     "delete_cmd_postfix": ") ",
     "delete_cmd_prefix": "rm(",
     "library": "var_list.r",
     "varRefreshCmd": "cat(var_dic_list()) "
    }
   },
   "types_to_exclude": [
    "module",
    "function",
    "builtin_function_or_method",
    "instance",
    "_Feature"
   ],
   "window_display": false
  }
 },
 "nbformat": 4,
 "nbformat_minor": 1
}
